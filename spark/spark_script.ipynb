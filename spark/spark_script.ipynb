{
 "cells": [
  {
   "cell_type": "markdown",
   "metadata": {},
   "source": [
    "### Instalação do PySpark"
   ]
  },
  {
   "cell_type": "code",
   "execution_count": 1,
   "metadata": {},
   "outputs": [
    {
     "name": "stdout",
     "output_type": "stream",
     "text": [
      "Requirement already satisfied: pyspark in ./.venv/lib/python3.12/site-packages (3.5.2)\n",
      "Requirement already satisfied: py4j==0.10.9.7 in ./.venv/lib/python3.12/site-packages (from pyspark) (0.10.9.7)\n",
      "Note: you may need to restart the kernel to use updated packages.\n"
     ]
    }
   ],
   "source": [
    "%pip install pyspark"
   ]
  },
  {
   "cell_type": "markdown",
   "metadata": {},
   "source": [
    "### Definindo IP local"
   ]
  },
  {
   "cell_type": "code",
   "execution_count": 2,
   "metadata": {},
   "outputs": [],
   "source": [
    "!export SPARK_LOCAL_IP=\"127.0.0.1\""
   ]
  },
  {
   "cell_type": "markdown",
   "metadata": {},
   "source": [
    "### Criação da sessão Spark"
   ]
  },
  {
   "cell_type": "code",
   "execution_count": 16,
   "metadata": {},
   "outputs": [],
   "source": [
    "from pyspark.sql import SparkSession, DataFrame, types\n",
    "import pyspark.sql.functions as F\n",
    "\n",
    "app_name = \"Questão 1\"\n",
    "master_url = \"local\"\n",
    "\n",
    "spark: SparkSession = SparkSession.builder.appName(app_name).master(master_url).getOrCreate()"
   ]
  },
  {
   "cell_type": "markdown",
   "metadata": {},
   "source": [
    "### Criação do RDD spark do arquivo CSV"
   ]
  },
  {
   "cell_type": "code",
   "execution_count": 17,
   "metadata": {},
   "outputs": [
    {
     "name": "stdout",
     "output_type": "stream",
     "text": [
      "+---+--------------------+--------------------+---------+\n",
      "| id|             text_en|             text_pt|sentiment|\n",
      "+---+--------------------+--------------------+---------+\n",
      "|  1|Once again Mr. Co...|Mais uma vez, o S...|      neg|\n",
      "|  2|This is an exampl...|Este é um exemplo...|      neg|\n",
      "|  3|First of all I ha...|Primeiro de tudo ...|      neg|\n",
      "|  4|Not even the Beat...|Nem mesmo os Beat...|      neg|\n",
      "|  5|Brass pictures mo...|Filmes de fotos d...|      neg|\n",
      "|  6|A funny thing hap...|Uma coisa engraça...|      neg|\n",
      "|  7|This German horro...|Este filme de ter...|      neg|\n",
      "|  8|Being a long-time...|Sendo um fã de lo...|      neg|\n",
      "|  9|\"Tokyo Eyes\" tell...|\"Tokyo Eyes\" fala...|      neg|\n",
      "| 10|Wealthy horse ran...|Fazendeiros ricos...|      neg|\n",
      "+---+--------------------+--------------------+---------+\n",
      "only showing top 10 rows\n",
      "\n"
     ]
    }
   ],
   "source": [
    "imdb_schema = types.StructType(\n",
    "    [\n",
    "        types.StructField(\"id\", types.IntegerType(), False),\n",
    "        types.StructField(\"text_en\", types.StringType(), False),\n",
    "        types.StructField(\"text_pt\", types.StringType(), False),\n",
    "        types.StructField(\"sentiment\", types.StringType(), False),\n",
    "    ]\n",
    ")\n",
    "\n",
    "imdb_df = spark.read.csv(\n",
    "    \"imdb-reviews-pt-br.csv\",\n",
    "    header=True,\n",
    "    quote='\"',\n",
    "    escape='\"',\n",
    "    encoding=\"UTF-8\",\n",
    "    schema=imdb_schema,\n",
    ")\n",
    "\n",
    "imdb_df.show(10)"
   ]
  },
  {
   "cell_type": "markdown",
   "metadata": {},
   "source": [
    "## QUESTÃO 1"
   ]
  },
  {
   "cell_type": "markdown",
   "metadata": {},
   "source": [
    "### Mapper"
   ]
  },
  {
   "cell_type": "code",
   "execution_count": 7,
   "metadata": {},
   "outputs": [],
   "source": [
    "def map_ids(x: DataFrame) -> DataFrame:\n",
    "    return imdb_df.select(\n",
    "        x.filter(x[\"sentiment\"] == \"neg\")[\"id\"],\n",
    "        x.filter(x[\"sentiment\"] == \"neg\")[\"sentiment\"],\n",
    "    )"
   ]
  },
  {
   "cell_type": "markdown",
   "metadata": {},
   "source": [
    "### Reducer"
   ]
  },
  {
   "cell_type": "code",
   "execution_count": 8,
   "metadata": {},
   "outputs": [],
   "source": [
    "def reduce_ids(x: DataFrame) -> DataFrame:\n",
    "    return x.agg(F.sum(x[\"id\"]))"
   ]
  },
  {
   "cell_type": "markdown",
   "metadata": {},
   "source": [
    "### Resultado"
   ]
  },
  {
   "cell_type": "code",
   "execution_count": 10,
   "metadata": {},
   "outputs": [
    {
     "name": "stderr",
     "output_type": "stream",
     "text": [
      "[Stage 4:>                                                          (0 + 1) / 1]\r"
     ]
    },
    {
     "name": "stdout",
     "output_type": "stream",
     "text": [
      "========================================\n",
      " A soma dos IDs negativos é: 1223168596\n",
      "========================================\n"
     ]
    },
    {
     "name": "stderr",
     "output_type": "stream",
     "text": [
      "                                                                                \r"
     ]
    }
   ],
   "source": [
    "resultado = reduce_ids(map_ids(imdb_df)).collect()[0]\n",
    "\n",
    "print(\"=\" * 40)\n",
    "print(f\" A soma dos IDs negativos é: {resultado[0]}\")\n",
    "print(\"=\" * 40)"
   ]
  },
  {
   "cell_type": "markdown",
   "metadata": {},
   "source": [
    "## QUESTÃO 2"
   ]
  },
  {
   "cell_type": "markdown",
   "metadata": {},
   "source": [
    "### Mapper"
   ]
  },
  {
   "cell_type": "code",
   "execution_count": 11,
   "metadata": {},
   "outputs": [],
   "source": [
    "def map_text(df: DataFrame) -> DataFrame:\n",
    "    avaliações = df.select(\n",
    "        df.filter(df[\"sentiment\"] == \"neg\")[\"text_en\"],\n",
    "        df.filter(df[\"sentiment\"] == \"neg\")[\"text_pt\"],\n",
    "    )\n",
    "\n",
    "    num_palavras = avaliações.rdd.map(\n",
    "        lambda x: (len(x[\"text_en\"].split()), len(x[\"text_pt\"].split()))\n",
    "    )\n",
    "    num_palavras_df = num_palavras.toDF(avaliações.schema)\n",
    "\n",
    "    avaliações_numeradas = avaliações.join(\n",
    "        num_palavras_df.withColumnsRenamed(\n",
    "            {\"text_en\": \"length_en\", \"text_pt\": \"length_pt\"}\n",
    "        )\n",
    "    )\n",
    "\n",
    "    return avaliações_numeradas"
   ]
  },
  {
   "cell_type": "markdown",
   "metadata": {},
   "source": [
    "### Reducer"
   ]
  },
  {
   "cell_type": "code",
   "execution_count": 12,
   "metadata": {},
   "outputs": [],
   "source": [
    "def reduce_text(df: DataFrame) -> DataFrame:\n",
    "    return df.agg(F.sum(df[\"length_en\"]), F.sum(df[\"length_pt\"]))"
   ]
  },
  {
   "cell_type": "markdown",
   "metadata": {},
   "source": [
    "### Resultado"
   ]
  },
  {
   "cell_type": "code",
   "execution_count": 18,
   "metadata": {},
   "outputs": [
    {
     "name": "stderr",
     "output_type": "stream",
     "text": [
      "[Stage 1:>                                                          (0 + 1) / 1]\r"
     ]
    },
    {
     "name": "stdout",
     "output_type": "stream",
     "text": [
      "============================================================\n",
      " A soma das palavras negativas em inglês é: 5.34903e+11\n",
      " A soma das palavras negativas em português é: 5.39967e+11\n",
      "============================================================\n",
      " As avaliações negativas possuem 5.0649e+09 palavras a mais \n",
      "em português do que em inglês.\n",
      "============================================================\n"
     ]
    },
    {
     "name": "stderr",
     "output_type": "stream",
     "text": [
      "                                                                                \r"
     ]
    }
   ],
   "source": [
    "resultado = reduce_text(map_text(imdb_df)).collect()[0]\n",
    "\n",
    "print(\"=\" * 60)\n",
    "print(f\" A soma das palavras negativas em inglês é: {resultado[0]:n}\")\n",
    "print(f\" A soma das palavras negativas em português é: {resultado[1]:n}\")\n",
    "print(\"=\" * 60)\n",
    "print(\n",
    "    f\" As avaliações negativas possuem {resultado[1] - resultado[0]:n} palavras a mais \\n em português do que em inglês.\"\n",
    ")\n",
    "print(\"=\" * 60)\n"
   ]
  },
  {
   "cell_type": "markdown",
   "metadata": {},
   "source": [
    "## Encerramento da sessão"
   ]
  },
  {
   "cell_type": "code",
   "execution_count": 19,
   "metadata": {},
   "outputs": [],
   "source": [
    "spark.stop()"
   ]
  }
 ],
 "metadata": {
  "kernelspec": {
   "display_name": ".venv",
   "language": "python",
   "name": "python3"
  },
  "language_info": {
   "codemirror_mode": {
    "name": "ipython",
    "version": 3
   },
   "file_extension": ".py",
   "mimetype": "text/x-python",
   "name": "python",
   "nbconvert_exporter": "python",
   "pygments_lexer": "ipython3",
   "version": "3.12.3"
  }
 },
 "nbformat": 4,
 "nbformat_minor": 2
}
